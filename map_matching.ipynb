{
 "cells": [
  {
   "cell_type": "markdown",
   "metadata": {},
   "source": [
    "## Documentations:\n",
    "- Mapbox Mapmatching general doc: https://www.mapbox.com/api-documentation/?language=Python#match-object\n",
    "- Mapmatching Python doc: https://github.com/mapbox/mapbox-sdk-py/blob/master/docs/mapmatching.md#map-matching\n",
    "- GeoJson doc: http://python-geojson.readthedocs.io/en/latest/#geojson-objects"
   ]
  },
  {
   "cell_type": "markdown",
   "metadata": {},
   "source": [
    "## Limitation:\n",
    "- only 100 coordinates per request (hence there is need to dissect some trips)\n",
    "- only 60 requests per minute\n",
    "- \"works best with a sample rate of 5 seconds between points\" (hence not every point in the data is used) [Not being implemented yet]"
   ]
  },
  {
   "cell_type": "markdown",
   "metadata": {},
   "source": [
    "### GeoJson Object Requirements:\n",
    "- type: feature\n",
    "- properties: coordinate times\n",
    "- LineString (for each coordinate, longitude first then latitude)"
   ]
  },
  {
   "cell_type": "markdown",
   "metadata": {},
   "source": [
    "### Mapbox Mapmatching API return\n",
    "The API returns a response object that can be converted to JSON. The response will have several matches if the data are not clean. Each sub-match will indicate a confidence ranged between 0 and 1, with closer to 1 being higher confidence. The response also includes tracepoints, which indicate what points are being matched and the route name for the matched route."
   ]
  },
  {
   "cell_type": "markdown",
   "metadata": {},
   "source": [
    "      "
   ]
  },
  {
   "cell_type": "markdown",
   "metadata": {},
   "source": [
    "### Steps:\n",
    "1. Select samples that are 5 seconds apart [not done yet]\n",
    "2. convert csv to Geojson (see requirement above; each trip returns one GeoJson object)\n",
    "3. Make API requests\n",
    "3. Select the best matching (if confidence is not too low) and store the routes for that trip\n",
    "4. Special cases:\n",
    "    - more than 100 coordinates in one trip (need to stack them together)\n",
    "    - too many submatches or submatches have very low confidence"
   ]
  },
  {
   "cell_type": "code",
   "execution_count": 1,
   "metadata": {
    "collapsed": true
   },
   "outputs": [],
   "source": [
    "import pandas as pd\n",
    "from mapbox import MapMatcher\n",
    "import json\n",
    "import requests\n",
    "from geojson import Point, Feature, LineString\n",
    "\n",
    "import numpy as np\n",
    "from scipy import stats, integrate\n",
    "import matplotlib.pyplot as plt\n",
    "import seaborn as sns\n",
    "\n",
    "import ciso8601\n",
    "import time\n",
    "import datetime"
   ]
  },
  {
   "cell_type": "code",
   "execution_count": 2,
   "metadata": {
    "collapsed": true
   },
   "outputs": [],
   "source": [
    "MAPBOX_ACCESS_KEY = ''\n",
    "service = MapMatcher(access_token=MAPBOX_ACCESS_KEY)"
   ]
  },
  {
   "cell_type": "code",
   "execution_count": 3,
   "metadata": {
    "collapsed": true
   },
   "outputs": [],
   "source": [
    "ROUTE_URL = \"https://api.mapbox.com/matching/v5/mapbox/cycling/{0}.json?access_token={1}&overview=full&geometries=geojson&timestamps={2}\""
   ]
  },
  {
   "cell_type": "markdown",
   "metadata": {},
   "source": [
    "<br\\><br\\>"
   ]
  },
  {
   "cell_type": "code",
   "execution_count": 4,
   "metadata": {
    "collapsed": true
   },
   "outputs": [],
   "source": [
    "all_trips = pd.DataFrame.from_csv(\"trips_first_1000.csv\")\n",
    "all_trips = all_trips.drop(['haccuracy', 'vaccuracy', 'dat', 'tim', 'dist.tostart','dist.toend', 'partial.dist'], 1)\n",
    "all_trips['recorded'] = pd.to_datetime(all_trips['recorded'])\n",
    "all_trips['UNIXtime'] = all_trips['recorded'].apply(lambda x: int(time.mktime(x.timetuple())))"
   ]
  },
  {
   "cell_type": "code",
   "execution_count": 42,
   "metadata": {
    "collapsed": true
   },
   "outputs": [],
   "source": [
    "count_df = all_trips.groupby('trip_id').count()"
   ]
  },
  {
   "cell_type": "code",
   "execution_count": 43,
   "metadata": {},
   "outputs": [
    {
     "name": "stdout",
     "output_type": "stream",
     "text": [
      "trips with 100 or less coordinates 63\n",
      "trips with more than 100 coordinates 775\n"
     ]
    }
   ],
   "source": [
    "trips_less100 = count_df[count_df['recorded'] <= 100].index ## this is actually trip ids...\n",
    "trips_more100 = count_df[count_df['recorded'] > 100].index\n",
    "print('trips with 100 or less coordinates', len(trips_less100))\n",
    "print('trips with more than 100 coordinates', len(trips_more100))"
   ]
  },
  {
   "cell_type": "markdown",
   "metadata": {},
   "source": [
    "<br\\><br\\><br\\>"
   ]
  },
  {
   "cell_type": "code",
   "execution_count": 136,
   "metadata": {
    "collapsed": true
   },
   "outputs": [],
   "source": [
    "def process_one_trip(df = pd.DataFrame(),trip_id = 0):\n",
    "    sum_list = [[],[]]\n",
    "    while df.shape[0] != 0:\n",
    "        if (df.shape[0]/100) >= 1:\n",
    "            new_response = get_route_data(df[:100])\n",
    "        else:\n",
    "            new_response = get_route_data(df)\n",
    "\n",
    "        new_list = process_response(new_response, 700)\n",
    "        sum_list[0] = sum_list[0] + new_list[0]\n",
    "        sum_list[1] = sum_list[1] + new_list[1]\n",
    "        df = df.drop(df.index[:100])\n",
    "    return sum_list"
   ]
  },
  {
   "cell_type": "code",
   "execution_count": 24,
   "metadata": {
    "collapsed": true
   },
   "outputs": [],
   "source": [
    "def create_route_url(list_coor, list_time):\n",
    "    lat_longs = \";\".join([\"{0},{1}\".format(point[0], point[1]) for point in list_coor])\n",
    "    timestamps = \";\".join([str(t) for t in list_time])\n",
    "    url = ROUTE_URL.format(lat_longs, MAPBOX_ACCESS_KEY, timestamps)\n",
    "    return url"
   ]
  },
  {
   "cell_type": "code",
   "execution_count": 72,
   "metadata": {
    "collapsed": true
   },
   "outputs": [],
   "source": [
    "def get_route_data(df = pd.DataFrame()):\n",
    "    list_coor = list(zip(list(df['longitude']), list(df['latitude'])))\n",
    "    list_time = list(df['UNIXtime'])\n",
    "    route_url = create_route_url(list_coor, list_time)\n",
    "    result = requests.get(route_url)\n",
    "    return (result.json())"
   ]
  },
  {
   "cell_type": "code",
   "execution_count": 80,
   "metadata": {
    "collapsed": true
   },
   "outputs": [],
   "source": [
    "def process_response(response={}, trip_id = 0):\n",
    "    trip_coor = [element['geometry']['coordinates'] for element in response['matchings']]\n",
    "    trip_coor = set([item for sublist in trip_coor for item in sublist])\n",
    "    trip_tracepoints = set([element['location'] for element in response['tracepoints'] if (element != None)])\n",
    "    return ([trip_coor, trip_tracepoints])"
   ]
  },
  {
   "cell_type": "code",
   "execution_count": 16,
   "metadata": {
    "collapsed": true
   },
   "outputs": [],
   "source": [
    "def select_5secs_apart(df = pd.DataFrame()):\n",
    "    df = df.set_index('recorded')\n",
    "    df['deltaT'] = df.index.to_series().diff().dt.seconds.fillna(0)\n",
    "    df = df.reset_index()\n",
    "    checker = 0\n",
    "    delete_list = []\n",
    "    for i in df.index:\n",
    "        if i == df.index[-1] or i == df.index[0]:\n",
    "            continue\n",
    "        checker = checker + df.iloc[i]['deltaT']\n",
    "        if checker < 5:\n",
    "            delete_list.append(i)\n",
    "        if checker >= 5:\n",
    "            checker = 0\n",
    "    df = df.drop(delete_list)\n",
    "    return df"
   ]
  },
  {
   "cell_type": "code",
   "execution_count": 141,
   "metadata": {
    "collapsed": true
   },
   "outputs": [],
   "source": [
    "### NEEDS FIXING!!!!\n",
    "def export_to_csv(matchpoints_tracepoints_list):\n",
    "    new_df = pd.DataFrame(trip_coor)\n",
    "    new_df = new_df.rename(columns={0: \"longitude\", 1: \"latitude\"})\n",
    "    new_df = new_df.reindex(columns=[\"latitude\",\"longitude\"])\n",
    "    file_name = 'trip_' + str(trip_id) + \"_coor.csv\"\n",
    "    new_df.to_csv(file_name)\n",
    "    "
   ]
  }
 ],
 "metadata": {
  "kernelspec": {
   "display_name": "Python 3",
   "language": "python",
   "name": "python3"
  },
  "language_info": {
   "codemirror_mode": {
    "name": "ipython",
    "version": 3
   },
   "file_extension": ".py",
   "mimetype": "text/x-python",
   "name": "python",
   "nbconvert_exporter": "python",
   "pygments_lexer": "ipython3",
   "version": "3.6.3"
  }
 },
 "nbformat": 4,
 "nbformat_minor": 2
}
